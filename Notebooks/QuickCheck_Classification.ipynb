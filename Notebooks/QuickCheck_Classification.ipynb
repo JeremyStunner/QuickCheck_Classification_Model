{
 "cells": [
  {
   "cell_type": "markdown",
   "id": "34aa39cb-dd88-4416-9560-50696dcbf30a",
   "metadata": {},
   "source": [
    "# Objective\n",
    "\n",
    "### With the classification_data, build an algorithm to predict the binary label. Build a pipeline going from exploratory analysis to model performance evaluation."
   ]
  },
  {
   "cell_type": "markdown",
   "id": "9562479b-968c-4918-81d9-49924bb42e86",
   "metadata": {},
   "source": [
    "### Import Data and Required Packages"
   ]
  },
  {
   "cell_type": "code",
   "execution_count": 2,
   "id": "b481888e-10c3-4176-885b-a60b492a294c",
   "metadata": {},
   "outputs": [],
   "source": [
    "import pandas as pd\n",
    "import numpy as np\n",
    "import matplotlib.pyplot as plt\n",
    "import seaborn as sns\n",
    "\n",
    "\n",
    "from sklearn.model_selection import train_test_split\n",
    "from sklearn.metrics import confusion_matrix\n",
    "from sklearn.neighbors import KNeighborsClassifier\n",
    "from sklearn.linear_model import LogisticRegression\n",
    "from sklearn.ensemble import RandomForestClassifier\n",
    "from sklearn.tree import DecisionTreeClassifier\n",
    "from sklearn.metrics import classification_report\n",
    "from sklearn.metrics import accuracy_score\n",
    "from sklearn.metrics import precision_score"
   ]
  },
  {
   "cell_type": "markdown",
   "id": "1d126f34-8c4f-47f6-b815-f72a2fd775b1",
   "metadata": {},
   "source": [
    "### Import the CSV Data as Pandas DataFrame"
   ]
  },
  {
   "cell_type": "code",
   "execution_count": 3,
   "id": "f7bb4d3d-d9e1-456a-afc6-b3620a245f70",
   "metadata": {},
   "outputs": [],
   "source": [
    "df = pd.read_csv('classification_data.csv')"
   ]
  },
  {
   "cell_type": "code",
   "execution_count": 4,
   "id": "1c6618a2-0804-498c-a543-4451629b4930",
   "metadata": {},
   "outputs": [
    {
     "data": {
      "text/html": [
       "<div>\n",
       "<style scoped>\n",
       "    .dataframe tbody tr th:only-of-type {\n",
       "        vertical-align: middle;\n",
       "    }\n",
       "\n",
       "    .dataframe tbody tr th {\n",
       "        vertical-align: top;\n",
       "    }\n",
       "\n",
       "    .dataframe thead th {\n",
       "        text-align: right;\n",
       "    }\n",
       "</style>\n",
       "<table border=\"1\" class=\"dataframe\">\n",
       "  <thead>\n",
       "    <tr style=\"text-align: right;\">\n",
       "      <th></th>\n",
       "      <th>user_id</th>\n",
       "      <th>label</th>\n",
       "      <th>Account type</th>\n",
       "      <th>Duration of Credit (month)</th>\n",
       "      <th>Payment Status of Previous Credit</th>\n",
       "      <th>Purpose</th>\n",
       "      <th>Credit Amount</th>\n",
       "      <th>Savings type</th>\n",
       "      <th>Length of current employment</th>\n",
       "      <th>Instalment per cent</th>\n",
       "      <th>...</th>\n",
       "      <th>Duration in Current address</th>\n",
       "      <th>Most valuable available asset</th>\n",
       "      <th>Age</th>\n",
       "      <th>Concurrent Credits</th>\n",
       "      <th>Type of apartment</th>\n",
       "      <th>No of Credits at this Bank</th>\n",
       "      <th>Occupation</th>\n",
       "      <th>No of dependents</th>\n",
       "      <th>Telephone</th>\n",
       "      <th>Foreign Worker</th>\n",
       "    </tr>\n",
       "  </thead>\n",
       "  <tbody>\n",
       "    <tr>\n",
       "      <th>0</th>\n",
       "      <td>586266</td>\n",
       "      <td>1</td>\n",
       "      <td>1</td>\n",
       "      <td>18</td>\n",
       "      <td>4</td>\n",
       "      <td>2</td>\n",
       "      <td>1049</td>\n",
       "      <td>1</td>\n",
       "      <td>2</td>\n",
       "      <td>4</td>\n",
       "      <td>...</td>\n",
       "      <td>4</td>\n",
       "      <td>2</td>\n",
       "      <td>21</td>\n",
       "      <td>3</td>\n",
       "      <td>1</td>\n",
       "      <td>1</td>\n",
       "      <td>3</td>\n",
       "      <td>1</td>\n",
       "      <td>1</td>\n",
       "      <td>1</td>\n",
       "    </tr>\n",
       "    <tr>\n",
       "      <th>1</th>\n",
       "      <td>392565</td>\n",
       "      <td>1</td>\n",
       "      <td>1</td>\n",
       "      <td>9</td>\n",
       "      <td>4</td>\n",
       "      <td>0</td>\n",
       "      <td>2799</td>\n",
       "      <td>1</td>\n",
       "      <td>3</td>\n",
       "      <td>2</td>\n",
       "      <td>...</td>\n",
       "      <td>2</td>\n",
       "      <td>1</td>\n",
       "      <td>36</td>\n",
       "      <td>3</td>\n",
       "      <td>1</td>\n",
       "      <td>2</td>\n",
       "      <td>3</td>\n",
       "      <td>2</td>\n",
       "      <td>1</td>\n",
       "      <td>1</td>\n",
       "    </tr>\n",
       "    <tr>\n",
       "      <th>2</th>\n",
       "      <td>204665</td>\n",
       "      <td>1</td>\n",
       "      <td>2</td>\n",
       "      <td>12</td>\n",
       "      <td>2</td>\n",
       "      <td>9</td>\n",
       "      <td>841</td>\n",
       "      <td>2</td>\n",
       "      <td>4</td>\n",
       "      <td>2</td>\n",
       "      <td>...</td>\n",
       "      <td>4</td>\n",
       "      <td>1</td>\n",
       "      <td>23</td>\n",
       "      <td>3</td>\n",
       "      <td>1</td>\n",
       "      <td>1</td>\n",
       "      <td>2</td>\n",
       "      <td>1</td>\n",
       "      <td>1</td>\n",
       "      <td>1</td>\n",
       "    </tr>\n",
       "    <tr>\n",
       "      <th>3</th>\n",
       "      <td>393307</td>\n",
       "      <td>1</td>\n",
       "      <td>1</td>\n",
       "      <td>12</td>\n",
       "      <td>4</td>\n",
       "      <td>0</td>\n",
       "      <td>2122</td>\n",
       "      <td>1</td>\n",
       "      <td>3</td>\n",
       "      <td>3</td>\n",
       "      <td>...</td>\n",
       "      <td>2</td>\n",
       "      <td>1</td>\n",
       "      <td>39</td>\n",
       "      <td>3</td>\n",
       "      <td>1</td>\n",
       "      <td>2</td>\n",
       "      <td>2</td>\n",
       "      <td>2</td>\n",
       "      <td>1</td>\n",
       "      <td>2</td>\n",
       "    </tr>\n",
       "    <tr>\n",
       "      <th>4</th>\n",
       "      <td>627375</td>\n",
       "      <td>1</td>\n",
       "      <td>1</td>\n",
       "      <td>12</td>\n",
       "      <td>4</td>\n",
       "      <td>0</td>\n",
       "      <td>2171</td>\n",
       "      <td>1</td>\n",
       "      <td>3</td>\n",
       "      <td>4</td>\n",
       "      <td>...</td>\n",
       "      <td>4</td>\n",
       "      <td>2</td>\n",
       "      <td>38</td>\n",
       "      <td>1</td>\n",
       "      <td>2</td>\n",
       "      <td>2</td>\n",
       "      <td>2</td>\n",
       "      <td>1</td>\n",
       "      <td>1</td>\n",
       "      <td>2</td>\n",
       "    </tr>\n",
       "  </tbody>\n",
       "</table>\n",
       "<p>5 rows × 22 columns</p>\n",
       "</div>"
      ],
      "text/plain": [
       "   user_id  label  Account type  Duration of Credit (month)  \\\n",
       "0   586266      1             1                          18   \n",
       "1   392565      1             1                           9   \n",
       "2   204665      1             2                          12   \n",
       "3   393307      1             1                          12   \n",
       "4   627375      1             1                          12   \n",
       "\n",
       "   Payment Status of Previous Credit  Purpose  Credit Amount  Savings type  \\\n",
       "0                                  4        2           1049             1   \n",
       "1                                  4        0           2799             1   \n",
       "2                                  2        9            841             2   \n",
       "3                                  4        0           2122             1   \n",
       "4                                  4        0           2171             1   \n",
       "\n",
       "   Length of current employment  Instalment per cent  ...  \\\n",
       "0                             2                    4  ...   \n",
       "1                             3                    2  ...   \n",
       "2                             4                    2  ...   \n",
       "3                             3                    3  ...   \n",
       "4                             3                    4  ...   \n",
       "\n",
       "   Duration in Current address  Most valuable available asset  Age  \\\n",
       "0                            4                              2   21   \n",
       "1                            2                              1   36   \n",
       "2                            4                              1   23   \n",
       "3                            2                              1   39   \n",
       "4                            4                              2   38   \n",
       "\n",
       "   Concurrent Credits  Type of apartment  No of Credits at this Bank  \\\n",
       "0                   3                  1                           1   \n",
       "1                   3                  1                           2   \n",
       "2                   3                  1                           1   \n",
       "3                   3                  1                           2   \n",
       "4                   1                  2                           2   \n",
       "\n",
       "   Occupation  No of dependents  Telephone  Foreign Worker  \n",
       "0           3                 1          1               1  \n",
       "1           3                 2          1               1  \n",
       "2           2                 1          1               1  \n",
       "3           2                 2          1               2  \n",
       "4           2                 1          1               2  \n",
       "\n",
       "[5 rows x 22 columns]"
      ]
     },
     "execution_count": 4,
     "metadata": {},
     "output_type": "execute_result"
    }
   ],
   "source": [
    "df.head()"
   ]
  },
  {
   "cell_type": "markdown",
   "id": "bdc0593a-113c-4318-8597-e7f10b23fae6",
   "metadata": {},
   "source": [
    "### Checking the Data shape & Columns"
   ]
  },
  {
   "cell_type": "code",
   "execution_count": 5,
   "id": "daf9c2d2-ae51-49d7-b04e-870ba352b823",
   "metadata": {},
   "outputs": [
    {
     "data": {
      "text/plain": [
       "(1000, 22)"
      ]
     },
     "execution_count": 5,
     "metadata": {},
     "output_type": "execute_result"
    }
   ],
   "source": [
    "df.shape"
   ]
  },
  {
   "cell_type": "code",
   "execution_count": 6,
   "id": "3dfd4841-8ae0-4360-9dcf-0c57c7283613",
   "metadata": {},
   "outputs": [
    {
     "data": {
      "text/plain": [
       "Index(['user_id', 'label', 'Account type', 'Duration of Credit (month)',\n",
       "       'Payment Status of Previous Credit', 'Purpose', 'Credit Amount',\n",
       "       'Savings type', 'Length of current employment', 'Instalment per cent',\n",
       "       'Marital Status', 'Guarantors', 'Duration in Current address',\n",
       "       'Most valuable available asset', 'Age', 'Concurrent Credits',\n",
       "       'Type of apartment', 'No of Credits at this Bank', 'Occupation',\n",
       "       'No of dependents', 'Telephone', 'Foreign Worker'],\n",
       "      dtype='object')"
      ]
     },
     "execution_count": 6,
     "metadata": {},
     "output_type": "execute_result"
    }
   ],
   "source": [
    "df.columns"
   ]
  },
  {
   "cell_type": "markdown",
   "id": "0f7662ca-1035-4fc3-b2d2-e64c6ce4a0db",
   "metadata": {},
   "source": [
    "### Checking for Null and duplicate values in the data"
   ]
  },
  {
   "cell_type": "code",
   "execution_count": 7,
   "id": "98babcb8-5b7a-43fd-a862-bb0cbee254fd",
   "metadata": {},
   "outputs": [
    {
     "data": {
      "text/plain": [
       "user_id                              0\n",
       "label                                0\n",
       "Account type                         0\n",
       "Duration of Credit (month)           0\n",
       "Payment Status of Previous Credit    0\n",
       "Purpose                              0\n",
       "Credit Amount                        0\n",
       "Savings type                         0\n",
       "Length of current employment         0\n",
       "Instalment per cent                  0\n",
       "Marital Status                       0\n",
       "Guarantors                           0\n",
       "Duration in Current address          0\n",
       "Most valuable available asset        0\n",
       "Age                                  0\n",
       "Concurrent Credits                   0\n",
       "Type of apartment                    0\n",
       "No of Credits at this Bank           0\n",
       "Occupation                           0\n",
       "No of dependents                     0\n",
       "Telephone                            0\n",
       "Foreign Worker                       0\n",
       "dtype: int64"
      ]
     },
     "execution_count": 7,
     "metadata": {},
     "output_type": "execute_result"
    }
   ],
   "source": [
    "df.isna().sum()"
   ]
  },
  {
   "cell_type": "code",
   "execution_count": 8,
   "id": "988a6742-d37b-408e-9c9a-37e6eeb71eb8",
   "metadata": {},
   "outputs": [
    {
     "data": {
      "text/plain": [
       "np.int64(0)"
      ]
     },
     "execution_count": 8,
     "metadata": {},
     "output_type": "execute_result"
    }
   ],
   "source": [
    "df.duplicated().sum()"
   ]
  },
  {
   "cell_type": "markdown",
   "id": "fe91f8a4-df15-481d-9fd2-070b85365207",
   "metadata": {},
   "source": [
    "### Checking the data types of the columns"
   ]
  },
  {
   "cell_type": "code",
   "execution_count": 9,
   "id": "4bb51fb4-dc24-4abb-84c3-f62fd913a6f3",
   "metadata": {},
   "outputs": [
    {
     "data": {
      "text/plain": [
       "user_id                              int64\n",
       "label                                int64\n",
       "Account type                         int64\n",
       "Duration of Credit (month)           int64\n",
       "Payment Status of Previous Credit    int64\n",
       "Purpose                              int64\n",
       "Credit Amount                        int64\n",
       "Savings type                         int64\n",
       "Length of current employment         int64\n",
       "Instalment per cent                  int64\n",
       "Marital Status                       int64\n",
       "Guarantors                           int64\n",
       "Duration in Current address          int64\n",
       "Most valuable available asset        int64\n",
       "Age                                  int64\n",
       "Concurrent Credits                   int64\n",
       "Type of apartment                    int64\n",
       "No of Credits at this Bank           int64\n",
       "Occupation                           int64\n",
       "No of dependents                     int64\n",
       "Telephone                            int64\n",
       "Foreign Worker                       int64\n",
       "dtype: object"
      ]
     },
     "execution_count": 9,
     "metadata": {},
     "output_type": "execute_result"
    }
   ],
   "source": [
    "df.dtypes"
   ]
  },
  {
   "cell_type": "markdown",
   "id": "f70c9c2c-5a5b-41d1-8878-0b787e7ea0a8",
   "metadata": {},
   "source": [
    "### Statistical description of the data"
   ]
  },
  {
   "cell_type": "code",
   "execution_count": 10,
   "id": "f02a8a5e-c2a6-44ab-9a0d-b4df3615043b",
   "metadata": {},
   "outputs": [
    {
     "data": {
      "text/html": [
       "<div>\n",
       "<style scoped>\n",
       "    .dataframe tbody tr th:only-of-type {\n",
       "        vertical-align: middle;\n",
       "    }\n",
       "\n",
       "    .dataframe tbody tr th {\n",
       "        vertical-align: top;\n",
       "    }\n",
       "\n",
       "    .dataframe thead th {\n",
       "        text-align: right;\n",
       "    }\n",
       "</style>\n",
       "<table border=\"1\" class=\"dataframe\">\n",
       "  <thead>\n",
       "    <tr style=\"text-align: right;\">\n",
       "      <th></th>\n",
       "      <th>user_id</th>\n",
       "      <th>label</th>\n",
       "      <th>Account type</th>\n",
       "      <th>Duration of Credit (month)</th>\n",
       "      <th>Payment Status of Previous Credit</th>\n",
       "      <th>Purpose</th>\n",
       "      <th>Credit Amount</th>\n",
       "      <th>Savings type</th>\n",
       "      <th>Length of current employment</th>\n",
       "      <th>Instalment per cent</th>\n",
       "      <th>...</th>\n",
       "      <th>Duration in Current address</th>\n",
       "      <th>Most valuable available asset</th>\n",
       "      <th>Age</th>\n",
       "      <th>Concurrent Credits</th>\n",
       "      <th>Type of apartment</th>\n",
       "      <th>No of Credits at this Bank</th>\n",
       "      <th>Occupation</th>\n",
       "      <th>No of dependents</th>\n",
       "      <th>Telephone</th>\n",
       "      <th>Foreign Worker</th>\n",
       "    </tr>\n",
       "  </thead>\n",
       "  <tbody>\n",
       "    <tr>\n",
       "      <th>count</th>\n",
       "      <td>1000.000000</td>\n",
       "      <td>1000.000000</td>\n",
       "      <td>1000.000000</td>\n",
       "      <td>1000.000000</td>\n",
       "      <td>1000.00000</td>\n",
       "      <td>1000.000000</td>\n",
       "      <td>1000.00000</td>\n",
       "      <td>1000.000000</td>\n",
       "      <td>1000.000000</td>\n",
       "      <td>1000.000000</td>\n",
       "      <td>...</td>\n",
       "      <td>1000.000000</td>\n",
       "      <td>1000.000000</td>\n",
       "      <td>1000.00000</td>\n",
       "      <td>1000.000000</td>\n",
       "      <td>1000.000000</td>\n",
       "      <td>1000.000000</td>\n",
       "      <td>1000.000000</td>\n",
       "      <td>1000.000000</td>\n",
       "      <td>1000.000000</td>\n",
       "      <td>1000.000000</td>\n",
       "    </tr>\n",
       "    <tr>\n",
       "      <th>mean</th>\n",
       "      <td>396518.897000</td>\n",
       "      <td>0.700000</td>\n",
       "      <td>2.577000</td>\n",
       "      <td>20.903000</td>\n",
       "      <td>2.54500</td>\n",
       "      <td>2.828000</td>\n",
       "      <td>3271.24800</td>\n",
       "      <td>2.105000</td>\n",
       "      <td>3.384000</td>\n",
       "      <td>2.973000</td>\n",
       "      <td>...</td>\n",
       "      <td>2.845000</td>\n",
       "      <td>2.358000</td>\n",
       "      <td>35.54200</td>\n",
       "      <td>2.675000</td>\n",
       "      <td>1.928000</td>\n",
       "      <td>1.407000</td>\n",
       "      <td>2.904000</td>\n",
       "      <td>1.155000</td>\n",
       "      <td>1.404000</td>\n",
       "      <td>1.037000</td>\n",
       "    </tr>\n",
       "    <tr>\n",
       "      <th>std</th>\n",
       "      <td>225382.045777</td>\n",
       "      <td>0.458487</td>\n",
       "      <td>1.257638</td>\n",
       "      <td>12.058814</td>\n",
       "      <td>1.08312</td>\n",
       "      <td>2.744439</td>\n",
       "      <td>2822.75176</td>\n",
       "      <td>1.580023</td>\n",
       "      <td>1.208306</td>\n",
       "      <td>1.118715</td>\n",
       "      <td>...</td>\n",
       "      <td>1.103718</td>\n",
       "      <td>1.050209</td>\n",
       "      <td>11.35267</td>\n",
       "      <td>0.705601</td>\n",
       "      <td>0.530186</td>\n",
       "      <td>0.577654</td>\n",
       "      <td>0.653614</td>\n",
       "      <td>0.362086</td>\n",
       "      <td>0.490943</td>\n",
       "      <td>0.188856</td>\n",
       "    </tr>\n",
       "    <tr>\n",
       "      <th>min</th>\n",
       "      <td>505.000000</td>\n",
       "      <td>0.000000</td>\n",
       "      <td>1.000000</td>\n",
       "      <td>4.000000</td>\n",
       "      <td>0.00000</td>\n",
       "      <td>0.000000</td>\n",
       "      <td>250.00000</td>\n",
       "      <td>1.000000</td>\n",
       "      <td>1.000000</td>\n",
       "      <td>1.000000</td>\n",
       "      <td>...</td>\n",
       "      <td>1.000000</td>\n",
       "      <td>1.000000</td>\n",
       "      <td>19.00000</td>\n",
       "      <td>1.000000</td>\n",
       "      <td>1.000000</td>\n",
       "      <td>1.000000</td>\n",
       "      <td>1.000000</td>\n",
       "      <td>1.000000</td>\n",
       "      <td>1.000000</td>\n",
       "      <td>1.000000</td>\n",
       "    </tr>\n",
       "    <tr>\n",
       "      <th>25%</th>\n",
       "      <td>201780.000000</td>\n",
       "      <td>0.000000</td>\n",
       "      <td>1.000000</td>\n",
       "      <td>12.000000</td>\n",
       "      <td>2.00000</td>\n",
       "      <td>1.000000</td>\n",
       "      <td>1365.50000</td>\n",
       "      <td>1.000000</td>\n",
       "      <td>3.000000</td>\n",
       "      <td>2.000000</td>\n",
       "      <td>...</td>\n",
       "      <td>2.000000</td>\n",
       "      <td>1.000000</td>\n",
       "      <td>27.00000</td>\n",
       "      <td>3.000000</td>\n",
       "      <td>2.000000</td>\n",
       "      <td>1.000000</td>\n",
       "      <td>3.000000</td>\n",
       "      <td>1.000000</td>\n",
       "      <td>1.000000</td>\n",
       "      <td>1.000000</td>\n",
       "    </tr>\n",
       "    <tr>\n",
       "      <th>50%</th>\n",
       "      <td>395127.500000</td>\n",
       "      <td>1.000000</td>\n",
       "      <td>2.000000</td>\n",
       "      <td>18.000000</td>\n",
       "      <td>2.00000</td>\n",
       "      <td>2.000000</td>\n",
       "      <td>2319.50000</td>\n",
       "      <td>1.000000</td>\n",
       "      <td>3.000000</td>\n",
       "      <td>3.000000</td>\n",
       "      <td>...</td>\n",
       "      <td>3.000000</td>\n",
       "      <td>2.000000</td>\n",
       "      <td>33.00000</td>\n",
       "      <td>3.000000</td>\n",
       "      <td>2.000000</td>\n",
       "      <td>1.000000</td>\n",
       "      <td>3.000000</td>\n",
       "      <td>1.000000</td>\n",
       "      <td>1.000000</td>\n",
       "      <td>1.000000</td>\n",
       "    </tr>\n",
       "    <tr>\n",
       "      <th>75%</th>\n",
       "      <td>586323.000000</td>\n",
       "      <td>1.000000</td>\n",
       "      <td>4.000000</td>\n",
       "      <td>24.000000</td>\n",
       "      <td>4.00000</td>\n",
       "      <td>3.000000</td>\n",
       "      <td>3972.25000</td>\n",
       "      <td>3.000000</td>\n",
       "      <td>5.000000</td>\n",
       "      <td>4.000000</td>\n",
       "      <td>...</td>\n",
       "      <td>4.000000</td>\n",
       "      <td>3.000000</td>\n",
       "      <td>42.00000</td>\n",
       "      <td>3.000000</td>\n",
       "      <td>2.000000</td>\n",
       "      <td>2.000000</td>\n",
       "      <td>3.000000</td>\n",
       "      <td>1.000000</td>\n",
       "      <td>2.000000</td>\n",
       "      <td>1.000000</td>\n",
       "    </tr>\n",
       "    <tr>\n",
       "      <th>max</th>\n",
       "      <td>797738.000000</td>\n",
       "      <td>1.000000</td>\n",
       "      <td>4.000000</td>\n",
       "      <td>72.000000</td>\n",
       "      <td>4.00000</td>\n",
       "      <td>10.000000</td>\n",
       "      <td>18424.00000</td>\n",
       "      <td>5.000000</td>\n",
       "      <td>5.000000</td>\n",
       "      <td>4.000000</td>\n",
       "      <td>...</td>\n",
       "      <td>4.000000</td>\n",
       "      <td>4.000000</td>\n",
       "      <td>75.00000</td>\n",
       "      <td>3.000000</td>\n",
       "      <td>3.000000</td>\n",
       "      <td>4.000000</td>\n",
       "      <td>4.000000</td>\n",
       "      <td>2.000000</td>\n",
       "      <td>2.000000</td>\n",
       "      <td>2.000000</td>\n",
       "    </tr>\n",
       "  </tbody>\n",
       "</table>\n",
       "<p>8 rows × 22 columns</p>\n",
       "</div>"
      ],
      "text/plain": [
       "             user_id        label  Account type  Duration of Credit (month)  \\\n",
       "count    1000.000000  1000.000000   1000.000000                 1000.000000   \n",
       "mean   396518.897000     0.700000      2.577000                   20.903000   \n",
       "std    225382.045777     0.458487      1.257638                   12.058814   \n",
       "min       505.000000     0.000000      1.000000                    4.000000   \n",
       "25%    201780.000000     0.000000      1.000000                   12.000000   \n",
       "50%    395127.500000     1.000000      2.000000                   18.000000   \n",
       "75%    586323.000000     1.000000      4.000000                   24.000000   \n",
       "max    797738.000000     1.000000      4.000000                   72.000000   \n",
       "\n",
       "       Payment Status of Previous Credit      Purpose  Credit Amount  \\\n",
       "count                         1000.00000  1000.000000     1000.00000   \n",
       "mean                             2.54500     2.828000     3271.24800   \n",
       "std                              1.08312     2.744439     2822.75176   \n",
       "min                              0.00000     0.000000      250.00000   \n",
       "25%                              2.00000     1.000000     1365.50000   \n",
       "50%                              2.00000     2.000000     2319.50000   \n",
       "75%                              4.00000     3.000000     3972.25000   \n",
       "max                              4.00000    10.000000    18424.00000   \n",
       "\n",
       "       Savings type  Length of current employment  Instalment per cent  ...  \\\n",
       "count   1000.000000                   1000.000000          1000.000000  ...   \n",
       "mean       2.105000                      3.384000             2.973000  ...   \n",
       "std        1.580023                      1.208306             1.118715  ...   \n",
       "min        1.000000                      1.000000             1.000000  ...   \n",
       "25%        1.000000                      3.000000             2.000000  ...   \n",
       "50%        1.000000                      3.000000             3.000000  ...   \n",
       "75%        3.000000                      5.000000             4.000000  ...   \n",
       "max        5.000000                      5.000000             4.000000  ...   \n",
       "\n",
       "       Duration in Current address  Most valuable available asset         Age  \\\n",
       "count                  1000.000000                    1000.000000  1000.00000   \n",
       "mean                      2.845000                       2.358000    35.54200   \n",
       "std                       1.103718                       1.050209    11.35267   \n",
       "min                       1.000000                       1.000000    19.00000   \n",
       "25%                       2.000000                       1.000000    27.00000   \n",
       "50%                       3.000000                       2.000000    33.00000   \n",
       "75%                       4.000000                       3.000000    42.00000   \n",
       "max                       4.000000                       4.000000    75.00000   \n",
       "\n",
       "       Concurrent Credits  Type of apartment  No of Credits at this Bank  \\\n",
       "count         1000.000000        1000.000000                 1000.000000   \n",
       "mean             2.675000           1.928000                    1.407000   \n",
       "std              0.705601           0.530186                    0.577654   \n",
       "min              1.000000           1.000000                    1.000000   \n",
       "25%              3.000000           2.000000                    1.000000   \n",
       "50%              3.000000           2.000000                    1.000000   \n",
       "75%              3.000000           2.000000                    2.000000   \n",
       "max              3.000000           3.000000                    4.000000   \n",
       "\n",
       "        Occupation  No of dependents    Telephone  Foreign Worker  \n",
       "count  1000.000000       1000.000000  1000.000000     1000.000000  \n",
       "mean      2.904000          1.155000     1.404000        1.037000  \n",
       "std       0.653614          0.362086     0.490943        0.188856  \n",
       "min       1.000000          1.000000     1.000000        1.000000  \n",
       "25%       3.000000          1.000000     1.000000        1.000000  \n",
       "50%       3.000000          1.000000     1.000000        1.000000  \n",
       "75%       3.000000          1.000000     2.000000        1.000000  \n",
       "max       4.000000          2.000000     2.000000        2.000000  \n",
       "\n",
       "[8 rows x 22 columns]"
      ]
     },
     "execution_count": 10,
     "metadata": {},
     "output_type": "execute_result"
    }
   ],
   "source": [
    "df.describe()"
   ]
  },
  {
   "cell_type": "markdown",
   "id": "da6984c1-3432-4955-a23c-4ba0947f7f82",
   "metadata": {},
   "source": [
    "### Dropping the User_id column as it is not needed in building the model"
   ]
  },
  {
   "cell_type": "code",
   "execution_count": 11,
   "id": "e58e9cca-d4f9-47ee-b726-dbfb86eb8460",
   "metadata": {},
   "outputs": [],
   "source": [
    "df1 = df.drop('user_id', axis=1)"
   ]
  },
  {
   "cell_type": "markdown",
   "id": "a9246da8-25c2-431a-9cbc-4e361ad50541",
   "metadata": {},
   "source": [
    "### Checking the categories in the Target variable column and their value counts"
   ]
  },
  {
   "cell_type": "code",
   "execution_count": 12,
   "id": "0e3e7093-a360-4819-9584-b339ab3e86d2",
   "metadata": {},
   "outputs": [
    {
     "data": {
      "text/plain": [
       "array([1, 0])"
      ]
     },
     "execution_count": 12,
     "metadata": {},
     "output_type": "execute_result"
    }
   ],
   "source": [
    "df['label'].unique()"
   ]
  },
  {
   "cell_type": "code",
   "execution_count": 13,
   "id": "3e0c7bae-07e8-4e7a-a78e-893765c52dbb",
   "metadata": {},
   "outputs": [
    {
     "data": {
      "text/plain": [
       "<Axes: ylabel='count'>"
      ]
     },
     "execution_count": 13,
     "metadata": {},
     "output_type": "execute_result"
    },
    {
     "data": {
      "image/png": "[encoded data removed]",
      "text/plain": [
       "<Figure size 640x480 with 1 Axes>"
      ]
     },
     "metadata": {},
     "output_type": "display_data"
    }
   ],
   "source": [
    "df['label'].value_counts().plot(kind = 'pie', autopct='%1.0f%%')"
   ]
  },
  {
   "cell_type": "markdown",
   "id": "063a1af5-f6a4-4c5f-bc81-20db91b9eafc",
   "metadata": {},
   "source": [
    "### There's an imbalance in the distribution of the label categories. so we fix this by adding stratify to the train-test split"
   ]
  },
  {
   "cell_type": "markdown",
   "id": "9162c348-df3d-4303-9e10-c2e01b83de3a",
   "metadata": {},
   "source": [
    "## Feature correlation with the target variable"
   ]
  },
  {
   "cell_type": "code",
   "execution_count": 14,
   "id": "51d118c4-be87-48c1-9605-34189487abf3",
   "metadata": {},
   "outputs": [
    {
     "data": {
      "image/png": "[encoded data removed]",
      "text/plain": [
       "<Figure size 1000x800 with 2 Axes>"
      ]
     },
     "metadata": {},
     "output_type": "display_data"
    }
   ],
   "source": [
    "corr = df1.corrwith(df1['label']).sort_values(ascending=False).to_frame()\n",
    "corr.columns = ['Correlation']\n",
    "\n",
    "colors = 'coolwarm'\n",
    "\n",
    "fig, ax = plt.subplots(nrows=1, ncols=2, figsize=(10, 8))\n",
    "\n",
    "plt.subplot(1, 2, 1)\n",
    "sns.heatmap(corr.iloc[:11, :], annot=True, cmap=colors, linewidths=0.4, linecolor='black', cbar=False)\n",
    "plt.title('Part 1')\n",
    "\n",
    "plt.subplot(1, 2, 2)\n",
    "sns.heatmap(corr.iloc[11:21, :], annot=True, cmap=colors, linewidths=0.4, linecolor='black', cbar=False)\n",
    "plt.title('Part 2')\n",
    "\n",
    "fig.tight_layout(w_pad=2)\n",
    "plt.show()"
   ]
  },
  {
   "cell_type": "markdown",
   "id": "a303e787-c7fd-4d10-9e47-b388c99af490",
   "metadata": {},
   "source": [
    "### Preparing X and Y variables"
   ]
  },
  {
   "cell_type": "code",
   "execution_count": 15,
   "id": "c004c3b3-5f74-4ac0-b15d-57c754d78493",
   "metadata": {},
   "outputs": [],
   "source": [
    "x = df1.drop('label', axis = 1)\n",
    "y = df1['label']"
   ]
  },
  {
   "cell_type": "markdown",
   "id": "3d979c84-fbd6-47f4-b8e4-e176c29a549f",
   "metadata": {},
   "source": [
    "### Data transformation"
   ]
  },
  {
   "cell_type": "code",
   "execution_count": 18,
   "id": "8ed3546d-d08a-4613-99d6-d909a82ee5a3",
   "metadata": {},
   "outputs": [],
   "source": [
    "num_feat = x.select_dtypes(exclude=\"object\").columns\n",
    "\n",
    "from sklearn.preprocessing import StandardScaler\n",
    "from sklearn.compose import ColumnTransformer\n",
    "\n",
    "numeric_transformer = StandardScaler()\n",
    "\n",
    "preprocessor = ColumnTransformer(\n",
    "    [\n",
    "         (\"StandardScaler\", numeric_transformer, num_feat)\n",
    "    ]\n",
    ")"
   ]
  },
  {
   "cell_type": "code",
   "execution_count": 19,
   "id": "5612bc9a-9204-464e-bd68-fd35f7cf6599",
   "metadata": {},
   "outputs": [],
   "source": [
    "x = preprocessor.fit_transform(x)"
   ]
  },
  {
   "cell_type": "code",
   "execution_count": 20,
   "id": "3ead943f-ba38-4810-ad9f-b3156f0224b2",
   "metadata": {},
   "outputs": [
    {
     "data": {
      "text/plain": [
       "array([[-1.25456565, -0.24085723,  1.34401408, ..., -0.42828957,\n",
       "        -0.82331789, -0.19601428],\n",
       "       [-1.25456565, -0.9875727 ,  1.34401408, ...,  2.33486893,\n",
       "        -0.82331789, -0.19601428],\n",
       "       [-0.45902624, -0.73866754, -0.50342796, ..., -0.42828957,\n",
       "        -0.82331789, -0.19601428],\n",
       "       ...,\n",
       "       [ 1.13205258,  0.00804793,  1.34401408, ..., -0.42828957,\n",
       "         1.21459768, -0.19601428],\n",
       "       [-0.45902624, -0.73866754, -0.50342796, ..., -0.42828957,\n",
       "         1.21459768, -0.19601428],\n",
       "       [-1.25456565,  0.75476341, -0.50342796, ..., -0.42828957,\n",
       "        -0.82331789, -0.19601428]], shape=(1000, 20))"
      ]
     },
     "execution_count": 20,
     "metadata": {},
     "output_type": "execute_result"
    }
   ],
   "source": [
    "x"
   ]
  },
  {
   "cell_type": "markdown",
   "id": "adaf112f-8406-4d77-b5c8-dc7083c8be99",
   "metadata": {},
   "source": [
    "### Splitting the data into train-test split"
   ]
  },
  {
   "cell_type": "code",
   "execution_count": 21,
   "id": "2fd3ee5c-85bf-4fe1-833a-8942ad811373",
   "metadata": {},
   "outputs": [],
   "source": [
    "x_train, x_test, y_train, y_test = train_test_split(x,y,test_size=0.2,random_state=42,stratify = y)"
   ]
  },
  {
   "cell_type": "markdown",
   "id": "5f6cb8ac-bc9e-4b6e-9fc8-91d3ba6cebde",
   "metadata": {},
   "source": [
    "### Building the models and Evaluation"
   ]
  },
  {
   "cell_type": "code",
   "execution_count": 22,
   "id": "5c29c5b8-4bff-4089-8257-926bde6ff411",
   "metadata": {},
   "outputs": [],
   "source": [
    "def evaluate_model(true, predicted):\n",
    "    class_report = classification_report(true, predicted)\n",
    "    accuracy = accuracy_score(true, predicted)\n",
    "    precision = precision_score(true, predicted)\n",
    "    return accuracy, precision, class_report"
   ]
  },
  {
   "cell_type": "code",
   "execution_count": 23,
   "id": "d8c74ed1-7a38-4da4-a502-9204ae6d1d25",
   "metadata": {},
   "outputs": [
    {
     "name": "stdout",
     "output_type": "stream",
     "text": [
      "Logistic Regression\n",
      "Model performance for Training set\n",
      "- Accuracy: 0.7700\n",
      "- Precision: 0.8013\n",
      "- Class_report:               precision    recall  f1-score   support\n",
      "\n",
      "           0       0.66      0.48      0.56        60\n",
      "           1       0.80      0.89      0.84       140\n",
      "\n",
      "    accuracy                           0.77       200\n",
      "   macro avg       0.73      0.69      0.70       200\n",
      "weighted avg       0.76      0.77      0.76       200\n",
      "\n",
      "----------------------------------\n",
      "Model performance for Test set\n",
      "- Accuracy: 0.7700\n",
      "- Precision: 0.8013\n",
      "- Class_report:               precision    recall  f1-score   support\n",
      "\n",
      "           0       0.66      0.48      0.56        60\n",
      "           1       0.80      0.89      0.84       140\n",
      "\n",
      "    accuracy                           0.77       200\n",
      "   macro avg       0.73      0.69      0.70       200\n",
      "weighted avg       0.76      0.77      0.76       200\n",
      "\n",
      "===================================\n",
      "\n",
      "\n",
      "KNN\n",
      "Model performance for Training set\n",
      "- Accuracy: 0.7300\n",
      "- Precision: 0.7722\n",
      "- Class_report:               precision    recall  f1-score   support\n",
      "\n",
      "           0       0.57      0.40      0.47        60\n",
      "           1       0.77      0.87      0.82       140\n",
      "\n",
      "    accuracy                           0.73       200\n",
      "   macro avg       0.67      0.64      0.64       200\n",
      "weighted avg       0.71      0.73      0.71       200\n",
      "\n",
      "----------------------------------\n",
      "Model performance for Test set\n",
      "- Accuracy: 0.7300\n",
      "- Precision: 0.7722\n",
      "- Class_report:               precision    recall  f1-score   support\n",
      "\n",
      "           0       0.57      0.40      0.47        60\n",
      "           1       0.77      0.87      0.82       140\n",
      "\n",
      "    accuracy                           0.73       200\n",
      "   macro avg       0.67      0.64      0.64       200\n",
      "weighted avg       0.71      0.73      0.71       200\n",
      "\n",
      "===================================\n",
      "\n",
      "\n",
      "Random Forest\n",
      "Model performance for Training set\n",
      "- Accuracy: 0.7900\n",
      "- Precision: 0.8101\n",
      "- Class_report:               precision    recall  f1-score   support\n",
      "\n",
      "           0       0.71      0.50      0.59        60\n",
      "           1       0.81      0.91      0.86       140\n",
      "\n",
      "    accuracy                           0.79       200\n",
      "   macro avg       0.76      0.71      0.72       200\n",
      "weighted avg       0.78      0.79      0.78       200\n",
      "\n",
      "----------------------------------\n",
      "Model performance for Test set\n",
      "- Accuracy: 0.7900\n",
      "- Precision: 0.8101\n",
      "- Class_report:               precision    recall  f1-score   support\n",
      "\n",
      "           0       0.71      0.50      0.59        60\n",
      "           1       0.81      0.91      0.86       140\n",
      "\n",
      "    accuracy                           0.79       200\n",
      "   macro avg       0.76      0.71      0.72       200\n",
      "weighted avg       0.78      0.79      0.78       200\n",
      "\n",
      "===================================\n",
      "\n",
      "\n",
      "Decision Trees\n",
      "Model performance for Training set\n",
      "- Accuracy: 0.6800\n",
      "- Precision: 0.7714\n",
      "- Class_report:               precision    recall  f1-score   support\n",
      "\n",
      "           0       0.47      0.47      0.47        60\n",
      "           1       0.77      0.77      0.77       140\n",
      "\n",
      "    accuracy                           0.68       200\n",
      "   macro avg       0.62      0.62      0.62       200\n",
      "weighted avg       0.68      0.68      0.68       200\n",
      "\n",
      "----------------------------------\n",
      "Model performance for Test set\n",
      "- Accuracy: 0.6800\n",
      "- Precision: 0.7714\n",
      "- Class_report:               precision    recall  f1-score   support\n",
      "\n",
      "           0       0.47      0.47      0.47        60\n",
      "           1       0.77      0.77      0.77       140\n",
      "\n",
      "    accuracy                           0.68       200\n",
      "   macro avg       0.62      0.62      0.62       200\n",
      "weighted avg       0.68      0.68      0.68       200\n",
      "\n",
      "===================================\n",
      "\n",
      "\n"
     ]
    }
   ],
   "source": [
    "models = {\n",
    "    \"Logistic Regression\": LogisticRegression(),\n",
    "    \"KNN\": KNeighborsClassifier(),\n",
    "    \"Random Forest\": RandomForestClassifier(),\n",
    "    \"Decision Trees\": DecisionTreeClassifier()\n",
    "    }\n",
    "model_list = []\n",
    "accuracy_list = []\n",
    "for i in range(len(list(models))):\n",
    "    model = list(models.values())[i]\n",
    "    model.fit(x_train, y_train) # Train model\n",
    "\n",
    "    y_train_pred = model.predict(x_train)\n",
    "    y_test_pred = model.predict(x_test)\n",
    "\n",
    "    accuracy, precision, class_report = evaluate_model(y_train, y_train_pred)\n",
    "    accuracy, precision, class_report = evaluate_model(y_test, y_test_pred)\n",
    "\n",
    "    print(list(models.keys())[i])\n",
    "    model_list.append(list(models.keys())[i])\n",
    "\n",
    "    print('Model performance for Training set')\n",
    "    print(\"- Accuracy: {:.4f}\".format(accuracy))\n",
    "    print(\"- Precision: {:.4f}\".format(precision))\n",
    "    print(\"- Class_report: {}\".format(class_report))\n",
    "\n",
    "    print('----------------------------------')\n",
    "\n",
    "    print('Model performance for Test set')\n",
    "    print(\"- Accuracy: {:.4f}\".format(accuracy))\n",
    "    print(\"- Precision: {:.4f}\".format(precision))\n",
    "    print(\"- Class_report: {}\".format(class_report))\n",
    "    accuracy_list.append(accuracy)\n",
    "\n",
    "    print('='*35)\n",
    "    print('\\n')"
   ]
  },
  {
   "cell_type": "markdown",
   "id": "a315684b-238d-460d-9f5a-8b3983a9c684",
   "metadata": {},
   "source": [
    "### Accuracies of the Models"
   ]
  },
  {
   "cell_type": "code",
   "execution_count": 27,
   "id": "4d9c7c3f-6032-42f5-84c5-c79fa388b542",
   "metadata": {},
   "outputs": [
    {
     "data": {
      "text/html": [
       "<div>\n",
       "<style scoped>\n",
       "    .dataframe tbody tr th:only-of-type {\n",
       "        vertical-align: middle;\n",
       "    }\n",
       "\n",
       "    .dataframe tbody tr th {\n",
       "        vertical-align: top;\n",
       "    }\n",
       "\n",
       "    .dataframe thead th {\n",
       "        text-align: right;\n",
       "    }\n",
       "</style>\n",
       "<table border=\"1\" class=\"dataframe\">\n",
       "  <thead>\n",
       "    <tr style=\"text-align: right;\">\n",
       "      <th></th>\n",
       "      <th>Model Name</th>\n",
       "      <th>Accuracy</th>\n",
       "    </tr>\n",
       "  </thead>\n",
       "  <tbody>\n",
       "    <tr>\n",
       "      <th>2</th>\n",
       "      <td>Random Forest</td>\n",
       "      <td>0.79</td>\n",
       "    </tr>\n",
       "    <tr>\n",
       "      <th>0</th>\n",
       "      <td>Logistic Regression</td>\n",
       "      <td>0.77</td>\n",
       "    </tr>\n",
       "    <tr>\n",
       "      <th>1</th>\n",
       "      <td>KNN</td>\n",
       "      <td>0.73</td>\n",
       "    </tr>\n",
       "    <tr>\n",
       "      <th>3</th>\n",
       "      <td>Decision Trees</td>\n",
       "      <td>0.68</td>\n",
       "    </tr>\n",
       "  </tbody>\n",
       "</table>\n",
       "</div>"
      ],
      "text/plain": [
       "            Model Name  Accuracy\n",
       "2        Random Forest      0.79\n",
       "0  Logistic Regression      0.77\n",
       "1                  KNN      0.73\n",
       "3       Decision Trees      0.68"
      ]
     },
     "execution_count": 27,
     "metadata": {},
     "output_type": "execute_result"
    }
   ],
   "source": [
    "pd.DataFrame(list(zip(model_list, accuracy_list)), columns=['Model Name', 'Accuracy']).sort_values(by=[\"Accuracy\"],ascending=False)"
   ]
  },
  {
   "cell_type": "markdown",
   "id": "39ebd97f-66f7-4544-9c46-e67fef2e3e8f",
   "metadata": {},
   "source": [
    "### Further evaluation of the best Model (Random Forest)"
   ]
  },
  {
   "cell_type": "code",
   "execution_count": 30,
   "id": "f56b132a-ae3d-409b-b86e-dcb5d3cfe226",
   "metadata": {},
   "outputs": [
    {
     "name": "stdout",
     "output_type": "stream",
     "text": [
      " Accuracy of the model is 80.00\n"
     ]
    }
   ],
   "source": [
    "rf = RandomForestClassifier()\n",
    "rf.fit(x_train, y_train)\n",
    "y_pred = rf.predict(x_test)\n",
    "score = accuracy_score(y_test, y_pred)*100\n",
    "print(\" Accuracy of the model is %.2f\" %score)"
   ]
  },
  {
   "cell_type": "markdown",
   "id": "cf0b1856-f30e-46b1-b73f-0955b4313e48",
   "metadata": {},
   "source": [
    "### Confusion Matrix for the Random Forest model"
   ]
  },
  {
   "cell_type": "code",
   "execution_count": 31,
   "id": "5c32a72d-94f1-4469-8f98-f6add9c6b7d6",
   "metadata": {},
   "outputs": [
    {
     "data": {
      "text/plain": [
       "<Axes: >"
      ]
     },
     "execution_count": 31,
     "metadata": {},
     "output_type": "execute_result"
    },
    {
     "data": {
      "image/png": "[encoded data removed]",
      "text/plain": [
       "<Figure size 800x500 with 2 Axes>"
      ]
     },
     "metadata": {},
     "output_type": "display_data"
    }
   ],
   "source": [
    "cm=confusion_matrix(y_test,y_pred)\n",
    "conf_matrix=pd.DataFrame(data=cm,columns=['Predicted:0','Predicted:1'],index=['Actual:0','Actual:1'])\n",
    "plt.figure(figsize = (8,5))\n",
    "sns.heatmap(conf_matrix, annot=True,fmt='d',cmap=\"YlGnBu\")"
   ]
  },
  {
   "cell_type": "markdown",
   "id": "8bac6a0e-142c-4a86-a7f4-1c79cc4b775d",
   "metadata": {},
   "source": [
    "# Confusion Matrix Results\n",
    "\n",
    "## True-Positive = 30\n",
    "## True-Negative = 130\n",
    "## False-Negative = 30\n",
    "## False-Positive = 10"
   ]
  },
  {
   "cell_type": "code",
   "execution_count": 32,
   "id": "59b3fffa-b20a-4b91-afcc-6bb9c643370b",
   "metadata": {},
   "outputs": [
    {
     "data": {
      "text/html": [
       "<div>\n",
       "<style scoped>\n",
       "    .dataframe tbody tr th:only-of-type {\n",
       "        vertical-align: middle;\n",
       "    }\n",
       "\n",
       "    .dataframe tbody tr th {\n",
       "        vertical-align: top;\n",
       "    }\n",
       "\n",
       "    .dataframe thead th {\n",
       "        text-align: right;\n",
       "    }\n",
       "</style>\n",
       "<table border=\"1\" class=\"dataframe\">\n",
       "  <thead>\n",
       "    <tr style=\"text-align: right;\">\n",
       "      <th></th>\n",
       "      <th>Actual Value</th>\n",
       "      <th>Predicted Value</th>\n",
       "      <th>Difference</th>\n",
       "    </tr>\n",
       "  </thead>\n",
       "  <tbody>\n",
       "    <tr>\n",
       "      <th>733</th>\n",
       "      <td>1</td>\n",
       "      <td>1</td>\n",
       "      <td>0</td>\n",
       "    </tr>\n",
       "    <tr>\n",
       "      <th>536</th>\n",
       "      <td>1</td>\n",
       "      <td>1</td>\n",
       "      <td>0</td>\n",
       "    </tr>\n",
       "    <tr>\n",
       "      <th>445</th>\n",
       "      <td>1</td>\n",
       "      <td>1</td>\n",
       "      <td>0</td>\n",
       "    </tr>\n",
       "    <tr>\n",
       "      <th>310</th>\n",
       "      <td>1</td>\n",
       "      <td>1</td>\n",
       "      <td>0</td>\n",
       "    </tr>\n",
       "    <tr>\n",
       "      <th>861</th>\n",
       "      <td>0</td>\n",
       "      <td>0</td>\n",
       "      <td>0</td>\n",
       "    </tr>\n",
       "    <tr>\n",
       "      <th>...</th>\n",
       "      <td>...</td>\n",
       "      <td>...</td>\n",
       "      <td>...</td>\n",
       "    </tr>\n",
       "    <tr>\n",
       "      <th>106</th>\n",
       "      <td>1</td>\n",
       "      <td>1</td>\n",
       "      <td>0</td>\n",
       "    </tr>\n",
       "    <tr>\n",
       "      <th>331</th>\n",
       "      <td>1</td>\n",
       "      <td>1</td>\n",
       "      <td>0</td>\n",
       "    </tr>\n",
       "    <tr>\n",
       "      <th>121</th>\n",
       "      <td>1</td>\n",
       "      <td>1</td>\n",
       "      <td>0</td>\n",
       "    </tr>\n",
       "    <tr>\n",
       "      <th>244</th>\n",
       "      <td>1</td>\n",
       "      <td>1</td>\n",
       "      <td>0</td>\n",
       "    </tr>\n",
       "    <tr>\n",
       "      <th>538</th>\n",
       "      <td>1</td>\n",
       "      <td>1</td>\n",
       "      <td>0</td>\n",
       "    </tr>\n",
       "  </tbody>\n",
       "</table>\n",
       "<p>200 rows × 3 columns</p>\n",
       "</div>"
      ],
      "text/plain": [
       "     Actual Value  Predicted Value  Difference\n",
       "733             1                1           0\n",
       "536             1                1           0\n",
       "445             1                1           0\n",
       "310             1                1           0\n",
       "861             0                0           0\n",
       "..            ...              ...         ...\n",
       "106             1                1           0\n",
       "331             1                1           0\n",
       "121             1                1           0\n",
       "244             1                1           0\n",
       "538             1                1           0\n",
       "\n",
       "[200 rows x 3 columns]"
      ]
     },
     "execution_count": 32,
     "metadata": {},
     "output_type": "execute_result"
    }
   ],
   "source": [
    "pred_df = pd.DataFrame({'Actual Value':y_test,'Predicted Value':y_pred, 'Difference':y_test-y_pred})\n",
    "pred_df"
   ]
  },
  {
   "cell_type": "code",
   "execution_count": 33,
   "id": "814da05b-49e3-4d94-8d58-9cdd905b20eb",
   "metadata": {},
   "outputs": [
    {
     "data": {
      "text/plain": [
       "Difference\n",
       " 0    160\n",
       "-1     30\n",
       " 1     10\n",
       "Name: count, dtype: int64"
      ]
     },
     "execution_count": 33,
     "metadata": {},
     "output_type": "execute_result"
    }
   ],
   "source": [
    "pred_df['Difference'].value_counts()"
   ]
  },
  {
   "cell_type": "markdown",
   "id": "c035e01b-1dd2-4a15-9f2e-911b32f849c6",
   "metadata": {},
   "source": [
    "# * Out of 200 customers, The model predicted 160 customer's category correctly and with an accuracy of 80%"
   ]
  },
  {
   "cell_type": "markdown",
   "id": "00a6de20-8cd0-4a2e-a258-03bd7bda8dbd",
   "metadata": {},
   "source": [
    "# * Also our model is good at predicting category one (1) correctly"
   ]
  },
  {
   "cell_type": "code",
   "execution_count": null,
   "id": "81e20052-a52f-439d-96e4-f88291bbfa20",
   "metadata": {},
   "outputs": [],
   "source": []
  }
 ],
 "metadata": {
  "kernelspec": {
   "display_name": "venv",
   "language": "python",
   "name": "python3"
  },
  "language_info": {
   "codemirror_mode": {
    "name": "ipython",
    "version": 3
   },
   "file_extension": ".py",
   "mimetype": "text/x-python",
   "name": "python",
   "nbconvert_exporter": "python",
   "pygments_lexer": "ipython3",
   "version": "3.12.8"
  }
 },
 "nbformat": 4,
 "nbformat_minor": 5
}
